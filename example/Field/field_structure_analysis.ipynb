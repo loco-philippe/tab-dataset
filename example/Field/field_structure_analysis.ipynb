{
 "cells": [
  {
   "cell_type": "markdown",
   "metadata": {},
   "source": [
    "# Field : structure analysis\n",
    "\n",
    "## Goals\n",
    "\n",
    "- understand the relationships between Field objects\n",
    "- present the methods that modify these relationships (read beforehand the structuring of Field)\n",
    "\n",
    "-----"
   ]
  },
  {
   "cell_type": "code",
   "execution_count": 1,
   "metadata": {},
   "outputs": [],
   "source": [
    "from tab_dataset import Nfield, Sfield"
   ]
  },
  {
   "cell_type": "markdown",
   "metadata": {},
   "source": [
    "## coupling analysis\n",
    "Two Field objects can be compared to identify the relationships between the two (similar to relationships between entities of a conceptual data model).\n",
    "Several relationships are defined :\n",
    "- coupled (one-to-one)\n",
    "- derived (many-to-one)\n",
    "- crossed (many-to-many with 'all-to-all' links)\n",
    "- linked (many-to-many)"
   ]
  },
  {
   "cell_type": "code",
   "execution_count": 2,
   "metadata": {},
   "outputs": [
    {
     "name": "stdout",
     "output_type": "stream",
     "text": [
      "quarter is coupled to month ?    False\n",
      "quarter is derived to month ?    True\n",
      "quarter relationship to month :  {'dist': 6, 'typecoupl': 'derived', 'distance': 2, 'distomin': 0, 'distomax': 18, 'distributed': False, 'ratecpl': 0.1, 'rateder': 0.0, 'dmax': 24, 'dmin': 6, 'diff': 2, 'dran': 18} \n",
      "\n",
      "monthnum is coupled to month ?    True\n",
      "monthnum is derived to month ?    False\n",
      "monthnum relationship to month :  {'dist': 6, 'typecoupl': 'coupled', 'distance': 0, 'distomin': 0, 'distomax': 30, 'distributed': False, 'ratecpl': 0.0, 'rateder': 0.0, 'dmax': 36, 'dmin': 6, 'diff': 0, 'dran': 30} \n",
      "\n",
      "semester is coupled to year ?    False\n",
      "semester is derived to year ?    False\n",
      "semester is crossed to year ?    True\n",
      "semester relationship to year :  {'dist': 6, 'typecoupl': 'crossed', 'distance': 4, 'distomin': 3, 'distomax': 0, 'distributed': True, 'ratecpl': 1.0, 'rateder': 1.0, 'dmax': 6, 'dmin': 3, 'diff': 1, 'dran': 3} \n",
      "\n"
     ]
    }
   ],
   "source": [
    "month   = Sfield(['jan', 'feb', 'apr', 'jan', 'sep', 'dec', 'apr', 'may', 'jan'], reindex=True)\n",
    "quarter = Nfield(['q1',  'q1',  'q2',  'q1',  'q3',  'q4',  'q2',  'q2',  'q1'], reindex=True)\n",
    "print('quarter is coupled to month ?   ', quarter.iscoupled(month))\n",
    "print('quarter is derived to month ?   ', quarter.isderived(month))\n",
    "print('quarter relationship to month : ', quarter.couplinginfos(month), '\\n')\n",
    "\n",
    "monthnum = Sfield([1, 2, 4, 1, 9, 12, 4, 5, 1], reindex=True)\n",
    "print('monthnum is coupled to month ?   ', monthnum.iscoupled(month))\n",
    "print('monthnum is derived to month ?   ', monthnum.isderived(month))\n",
    "print('monthnum relationship to month : ', monthnum.couplinginfos(month), '\\n')\n",
    "\n",
    "year     = Sfield([2020, 2020, 2021, 2021, 2022, 2022], reindex=True)\n",
    "semester = Sfield(['s1', 's2', 's1', 's2','s1', 's2',], reindex=True)\n",
    "print('semester is coupled to year ?   ', semester.iscoupled(year))\n",
    "print('semester is derived to year ?   ', semester.isderived(year))\n",
    "print('semester is crossed to year ?   ', semester.iscrossed(year))\n",
    "print('semester relationship to year : ', semester.couplinginfos(year), '\\n')"
   ]
  },
  {
   "cell_type": "markdown",
   "metadata": {},
   "source": [
    "## coupling forcing - codec adjustement\n",
    "We can impose a relationship with codec extension or reduction.\n",
    "Deviations can be identified simply\n",
    "    \n",
    "    \n"
   ]
  },
  {
   "cell_type": "code",
   "execution_count": 3,
   "metadata": {},
   "outputs": [
    {
     "name": "stdout",
     "output_type": "stream",
     "text": [
      "quarter relationship to month :  {'dist': 7, 'typecoupl': 'linked', 'distance': 3, 'distomin': 1, 'distomax': 17, 'distributed': False, 'ratecpl': 0.15, 'rateder': 0.05555555555555555, 'dmax': 24, 'dmin': 6, 'diff': 2, 'dran': 18} \n",
      "\n",
      "quarter relationship to month :  {'dist': 7, 'typecoupl': 'derived', 'distance': 3, 'distomin': 0, 'distomax': 21, 'distributed': False, 'ratecpl': 0.125, 'rateder': 0.0, 'dmax': 28, 'dmin': 7, 'diff': 3, 'dran': 21} \n",
      "\n",
      "quarter codec :  [\"q1\", \"q3\", \"q4\", \"q2\"]\n",
      "month codec :  ['jan', 'feb', 'apr', 'sep', 'dec', 'apr', 'may']\n",
      "errors :  ['apr', 'apr'] [\"q3\", \"q2\"]\n"
     ]
    }
   ],
   "source": [
    "#for example if i introduce an error in the quarters, i can impose that the quarters are always derived from the months\n",
    "\n",
    "quarter[2] = 'q3'\n",
    "print('quarter relationship to month : ', quarter.couplinginfos(month), '\\n') # quarter and month are only linked\n",
    "# the rate is low (< 0.1), it means that quarter is almost derived or coupled with month\n",
    "\n",
    "errors = month.coupling(quarter)                                              # coupling forcing (return duplicate record)\n",
    "print('quarter relationship to month : ', quarter.couplinginfos(month), '\\n') # quarter is now derived from month\n",
    "\n",
    "print('quarter codec : ', quarter.codec)\n",
    "print('month codec : ', month.codec)                      # a codec extension is made to compensate for the error\n",
    "print('errors : ', month[errors], quarter[errors])        # 'apr' is the error with two quarters 'q2', 'q3'"
   ]
  },
  {
   "cell_type": "markdown",
   "metadata": {},
   "source": [
    "## coupling forcing - values adjustement\n",
    "We can impose a relationship with values extension or reduction.\n",
    "Deviations can be identified simply\n"
   ]
  },
  {
   "cell_type": "code",
   "execution_count": 4,
   "metadata": {},
   "outputs": [
    {
     "name": "stdout",
     "output_type": "stream",
     "text": [
      "semester relationship to year :  {'dist': 4, 'typecoupl': 'linked', 'distance': 2, 'distomin': 1, 'distomax': 2, 'distributed': False, 'ratecpl': 0.5, 'rateder': 0.3333333333333333, 'dmax': 6, 'dmin': 3, 'diff': 1, 'dran': 3} \n",
      "\n",
      "semester relationship to year :  {'dist': 6, 'typecoupl': 'crossed', 'distance': 4, 'distomin': 3, 'distomax': 0, 'distributed': True, 'ratecpl': 1.0, 'rateder': 1.0, 'dmax': 6, 'dmin': 3, 'diff': 1, 'dran': 3} \n",
      "\n",
      "years extension    :  {'$default': [2020, 2021, 2021, 2022, 2020, 2022]}\n",
      "semester extension :  {'$default': ['s1', 's1', 's2', 's1', 's2', 's2']}\n",
      "added values :  [2020, 2022] ['s2', 's2']\n"
     ]
    }
   ],
   "source": [
    "# In the previous example with years and semesters, if some data is missing, years and semesters cannot be crossed\n",
    "\n",
    "year     = Sfield([2020, 2021, 2021, 2022], reindex=True)\n",
    "semester = Sfield(['s1', 's1', 's2','s1'], reindex=True)\n",
    "print('semester relationship to year : ', semester.couplinginfos(year), '\\n')     # year and semester are linked\n",
    "\n",
    "added = Sfield.full([year, semester])\n",
    "print('semester relationship to year : ', semester.couplinginfos(year), '\\n')     # year and semester are now crossed\n",
    "print('years extension    : ', year)\n",
    "print('semester extension : ', semester)\n",
    "print('added values : ', year[added], semester[added])"
   ]
  }
 ],
 "metadata": {
  "kernelspec": {
   "display_name": "Python 3 (ipykernel)",
   "language": "python",
   "name": "python3"
  },
  "language_info": {
   "codemirror_mode": {
    "name": "ipython",
    "version": 3
   },
   "file_extension": ".py",
   "mimetype": "text/x-python",
   "name": "python",
   "nbconvert_exporter": "python",
   "pygments_lexer": "ipython3",
   "version": "3.10.9"
  }
 },
 "nbformat": 4,
 "nbformat_minor": 4
}
